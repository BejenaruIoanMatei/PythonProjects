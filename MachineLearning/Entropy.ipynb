{
 "cells": [
  {
   "cell_type": "markdown",
   "metadata": {},
   "source": [
    "- Function to calculate the entropy for a variable sized X\n",
    "- Used for not wasting time with logs and sums and whatev"
   ]
  },
  {
   "cell_type": "code",
   "execution_count": 18,
   "metadata": {},
   "outputs": [
    {
     "name": "stdout",
     "output_type": "stream",
     "text": [
      "H(X) = 0.8812908992306927\n"
     ]
    }
   ],
   "source": [
    "import math as m\n",
    "\n",
    "def Entropy(X):\n",
    "    return -sum(i * m.log2(i) for i in X if i > 0)\n",
    "\n",
    "X = [0.67, 0.23]\n",
    "print(f\"H(X) = {Entropy(X)}\")"
   ]
  }
 ],
 "metadata": {
  "kernelspec": {
   "display_name": "env",
   "language": "python",
   "name": "python3"
  },
  "language_info": {
   "codemirror_mode": {
    "name": "ipython",
    "version": 3
   },
   "file_extension": ".py",
   "mimetype": "text/x-python",
   "name": "python",
   "nbconvert_exporter": "python",
   "pygments_lexer": "ipython3",
   "version": "3.12.6"
  },
  "orig_nbformat": 4
 },
 "nbformat": 4,
 "nbformat_minor": 2
}

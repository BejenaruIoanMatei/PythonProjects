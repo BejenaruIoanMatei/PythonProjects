{
 "cells": [
  {
   "cell_type": "markdown",
   "metadata": {},
   "source": [
    "- Function to calculate the entropy for a variable sized X\n",
    "- Used for not wasting time with logs and sums and whatev"
   ]
  },
  {
   "cell_type": "code",
   "execution_count": 14,
   "metadata": {},
   "outputs": [
    {
     "ename": "TypeError",
     "evalue": "'>' not supported between instances of 'tuple' and 'int'",
     "output_type": "error",
     "traceback": [
      "\u001b[0;31m---------------------------------------------------------------------------\u001b[0m",
      "\u001b[0;31mTypeError\u001b[0m                                 Traceback (most recent call last)",
      "\u001b[1;32m/Users/user/Documents/GitHub/PythonProjects/MachineLearning/Entropy.ipynb Cell 2\u001b[0m line \u001b[0;36m6\n\u001b[1;32m      <a href='vscode-notebook-cell:/Users/user/Documents/GitHub/PythonProjects/MachineLearning/Entropy.ipynb#W2sZmlsZQ%3D%3D?line=2'>3</a>\u001b[0m \u001b[39mdef\u001b[39;00m \u001b[39mEntropy\u001b[39m(\u001b[39m*\u001b[39mX):\n\u001b[1;32m      <a href='vscode-notebook-cell:/Users/user/Documents/GitHub/PythonProjects/MachineLearning/Entropy.ipynb#W2sZmlsZQ%3D%3D?line=3'>4</a>\u001b[0m     \u001b[39mreturn\u001b[39;00m \u001b[39m-\u001b[39m\u001b[39msum\u001b[39m(i \u001b[39m*\u001b[39m m\u001b[39m.\u001b[39mlog2(i) \u001b[39mfor\u001b[39;00m i \u001b[39min\u001b[39;00m X \u001b[39mif\u001b[39;00m i \u001b[39m>\u001b[39m \u001b[39m0\u001b[39m)\n\u001b[0;32m----> <a href='vscode-notebook-cell:/Users/user/Documents/GitHub/PythonProjects/MachineLearning/Entropy.ipynb#W2sZmlsZQ%3D%3D?line=5'>6</a>\u001b[0m X \u001b[39m=\u001b[39m Entropy((\u001b[39m0.15\u001b[39;49m, \u001b[39m0.35\u001b[39;49m, \u001b[39m0.5\u001b[39;49m), (\u001b[39m0.7\u001b[39;49m, \u001b[39m0.3\u001b[39;49m))\n\u001b[1;32m      <a href='vscode-notebook-cell:/Users/user/Documents/GitHub/PythonProjects/MachineLearning/Entropy.ipynb#W2sZmlsZQ%3D%3D?line=6'>7</a>\u001b[0m \u001b[39mprint\u001b[39m(\u001b[39mf\u001b[39m\u001b[39m\"\u001b[39m\u001b[39mH(X) = \u001b[39m\u001b[39m{\u001b[39;00mEntropy(X)\u001b[39m}\u001b[39;00m\u001b[39m\"\u001b[39m)\n",
      "\u001b[1;32m/Users/user/Documents/GitHub/PythonProjects/MachineLearning/Entropy.ipynb Cell 2\u001b[0m line \u001b[0;36m4\n\u001b[1;32m      <a href='vscode-notebook-cell:/Users/user/Documents/GitHub/PythonProjects/MachineLearning/Entropy.ipynb#W2sZmlsZQ%3D%3D?line=2'>3</a>\u001b[0m \u001b[39mdef\u001b[39;00m \u001b[39mEntropy\u001b[39m(\u001b[39m*\u001b[39mX):\n\u001b[0;32m----> <a href='vscode-notebook-cell:/Users/user/Documents/GitHub/PythonProjects/MachineLearning/Entropy.ipynb#W2sZmlsZQ%3D%3D?line=3'>4</a>\u001b[0m     \u001b[39mreturn\u001b[39;00m \u001b[39m-\u001b[39m\u001b[39msum\u001b[39;49m(i \u001b[39m*\u001b[39;49m m\u001b[39m.\u001b[39;49mlog2(i) \u001b[39mfor\u001b[39;49;00m i \u001b[39min\u001b[39;49;00m X \u001b[39mif\u001b[39;49;00m i \u001b[39m>\u001b[39;49m \u001b[39m0\u001b[39;49m)\n",
      "\u001b[1;32m/Users/user/Documents/GitHub/PythonProjects/MachineLearning/Entropy.ipynb Cell 2\u001b[0m line \u001b[0;36m4\n\u001b[1;32m      <a href='vscode-notebook-cell:/Users/user/Documents/GitHub/PythonProjects/MachineLearning/Entropy.ipynb#W2sZmlsZQ%3D%3D?line=2'>3</a>\u001b[0m \u001b[39mdef\u001b[39;00m \u001b[39mEntropy\u001b[39m(\u001b[39m*\u001b[39mX):\n\u001b[0;32m----> <a href='vscode-notebook-cell:/Users/user/Documents/GitHub/PythonProjects/MachineLearning/Entropy.ipynb#W2sZmlsZQ%3D%3D?line=3'>4</a>\u001b[0m     \u001b[39mreturn\u001b[39;00m \u001b[39m-\u001b[39m\u001b[39msum\u001b[39m(i \u001b[39m*\u001b[39m m\u001b[39m.\u001b[39mlog2(i) \u001b[39mfor\u001b[39;00m i \u001b[39min\u001b[39;00m X \u001b[39mif\u001b[39;00m i \u001b[39m>\u001b[39;49m \u001b[39m0\u001b[39;49m)\n",
      "\u001b[0;31mTypeError\u001b[0m: '>' not supported between instances of 'tuple' and 'int'"
     ]
    }
   ],
   "source": [
    "import math as m\n",
    "\n",
    "def Entropy(X):\n",
    "    return -sum(i * m.log2(i) for i in X if i > 0)\n",
    "\n",
    "X = [0.15, 0.35, 0.5]\n",
    "print(f\"H(X) = {Entropy(X)}\")"
   ]
  }
 ],
 "metadata": {
  "kernelspec": {
   "display_name": "env",
   "language": "python",
   "name": "python3"
  },
  "language_info": {
   "codemirror_mode": {
    "name": "ipython",
    "version": 3
   },
   "file_extension": ".py",
   "mimetype": "text/x-python",
   "name": "python",
   "nbconvert_exporter": "python",
   "pygments_lexer": "ipython3",
   "version": "3.12.6"
  },
  "orig_nbformat": 4
 },
 "nbformat": 4,
 "nbformat_minor": 2
}

{
 "cells": [
  {
   "cell_type": "markdown",
   "metadata": {},
   "source": [
    "1. Functii Lambda\n",
    "- functii no name\n",
    "- folosita ca pointer\n",
    "- very useful "
   ]
  },
  {
   "cell_type": "code",
   "execution_count": 4,
   "metadata": {},
   "outputs": [
    {
     "data": {
      "text/plain": [
       "5"
      ]
     },
     "execution_count": 4,
     "metadata": {},
     "output_type": "execute_result"
    }
   ],
   "source": [
    "# sintaxa\n",
    "## lambda <list_of_params> : return_value\n",
    "\n",
    "def suma(x,y):\n",
    "    return x + y\n",
    "suma(2,3)\n",
    "\n",
    "adunare = lambda x,y : x + y\n",
    "adunare(2,3)"
   ]
  },
  {
   "cell_type": "markdown",
   "metadata": {},
   "source": [
    "2. Secvente (containere)\n",
    "- elementele din lista nu trebuie sa fie de acelasi tip\n",
    "- list : mutable vector (pot modifica dimensiunea)\n",
    "- tuple : immutable vector (nu pot modifica dimensiunea)\n",
    "- foarte similare intre ele"
   ]
  },
  {
   "cell_type": "code",
   "execution_count": 21,
   "metadata": {},
   "outputs": [
    {
     "name": "stdout",
     "output_type": "stream",
     "text": [
      "x este [1, 2, 1, 2, 1, 2, 1, 2, 1, 2]\n",
      "y este (1, 10)\n",
      "rez sunt 15, 120\n",
      "Index: 1, name: ion\n",
      "Index: 2, name: maria\n",
      "Index: 3, name: marius\n"
     ]
    }
   ],
   "source": [
    "## lista : x = []\n",
    "## tuplu : x = ()\n",
    "\n",
    "x = [1, 2] * 5\n",
    "print(f\"x este {x}\")\n",
    "\n",
    "# pot defini un tuplu si fara paranteze, dar nu este recomandat\n",
    "\n",
    "y = 1,2 * 5 # => 1,10 cand noi vrem (1,2) , (1,2) , ....\n",
    "# o sa imi ia 1,(2*5) adica 1,10\n",
    "print(f\"y este {y}\")\n",
    "\n",
    "l = ['a', 'b', 2, 3, 'c']\n",
    "\n",
    "l[0] # a\n",
    "l[1] # b\n",
    "l[-1] # c\n",
    "l[-2] # 3\n",
    "l[:3] # a, b, 2\n",
    "l[2:] #  2, 3, c\n",
    "l[1:3] # b, 2\n",
    "l[1:-2] # b, 2\n",
    "\n",
    "# la fel si la tuple\n",
    "\n",
    "def ComputeSumAndProd(*list_of_params):\n",
    "    s = 0\n",
    "    p = 1\n",
    "    for param in list_of_params:\n",
    "        s += param\n",
    "        p *= param\n",
    "        \n",
    "    return (s, p) # use case la tuplu\n",
    "\n",
    "sum, prod = ComputeSumAndProd(1, 2, 3, 4, 5)\n",
    "\n",
    "print(f\"rez sunt {sum}, {prod}\")\n",
    "\n",
    "for index, name in enumerate([\"ion\", \"maria\", \"marius\"], 1): ## enumerate returneaza o tupla (index, valoare) , iar 1 este indexul de start\n",
    "    print(f\"Index: {index}, name: {name}\")\n",
    "    \n",
    "\n",
    "\n"
   ]
  },
  {
   "cell_type": "markdown",
   "metadata": {},
   "source": [
    "3. Functional Programming\n",
    "- cream o lista prin a ii specifica cum o cream"
   ]
  },
  {
   "cell_type": "code",
   "execution_count": 27,
   "metadata": {},
   "outputs": [
    {
     "name": "stdout",
     "output_type": "stream",
     "text": [
      "[2, 4, 6, 8]\n",
      "[[1, 2], [1, 4], [3, 2], [3, 4], [5, 2], [5, 4]]\n",
      "[3, 5, 7, 9, 11, 13, 15, 17, 19, 21, 23, 25, 27, 29, 31, 33, 35, 37, 39, 41, 43, 45, 47, 49]\n"
     ]
    }
   ],
   "source": [
    "x = [i for i in range(1,10) if i % 2 == 0]\n",
    "print(x)\n",
    "\n",
    "l = [[x, y] for x in range(1,6) for y in range(1,6) if x % 2 != 0 and y % 2 == 0]\n",
    "print(l)\n",
    "\n",
    "x = [x for x in range(1,50) if len([y for y in (2, x//2+1) if x % y == 0]) == 0] ## numere prime folosind programarea funct\n",
    "print(x)"
   ]
  },
  {
   "cell_type": "code",
   "execution_count": 31,
   "metadata": {},
   "outputs": [
    {
     "name": "stdout",
     "output_type": "stream",
     "text": [
      "[1, 2, 3, 2]\n",
      "[1, 2, 3, 2, 'a', 'b', 'c']\n",
      "[1, 2, 3, 2, 'a', 'b', 'c', 'a']\n",
      "[1, 2, 3, 2, 'a', 'b', 'c', 'a', '10', 12]\n",
      "['A', 1, 2, 3, 2, 'a', 'b', 'c', 'a', '10', 12]\n",
      "['A', 1, 2, 3, 2, 'a', 'b', 'c', 'a', '10', 12, 'X']\n",
      "['A', 1, 2, 3, 2, 'a', 'b', 'c', 'a', '10', 12, 'X', 'X']\n",
      "['A', 1, 2, 3, 2, 'a', 'b', 'c', 'a', '10', 12, 'X', 'X', 'a', 'b', 'c']\n",
      "['A', 1, 2, 'unu', 'b', 'c', 'a', '10', 12, 'X', 'X', 'a', 'b', 'c']\n",
      "['A', 1, 2, 'unu', 'b', 'c', 'a', '10', 'doi']\n",
      "[3, 2, 3, 2, 3]\n",
      "[3, 2]\n",
      "[2]\n",
      "2\n",
      "[]\n",
      "[]\n",
      "[2, 3]\n"
     ]
    }
   ],
   "source": [
    "x = [1, 2, 3]\n",
    "y = (1, 2, 3)\n",
    "\n",
    "x.append(2)\n",
    "print(x)\n",
    "#y.append(3) nu pot extinde tuplul\n",
    "\n",
    "x.extend(('a', 'b', 'c'))\n",
    "print(x)\n",
    "\n",
    "x += 'a'\n",
    "print(x)\n",
    "\n",
    "x += ('10', 12)\n",
    "print(x)\n",
    "\n",
    "x.insert(0,'A')\n",
    "print(x)\n",
    "\n",
    "x.insert(len(x),'X')\n",
    "print(x)\n",
    "\n",
    "x.insert(-1, 'X') # inaintea ultimului\n",
    "print(x)\n",
    "\n",
    "x[len(x):] = ['a', 'b', 'c'] # am inserat la final\n",
    "print(x)\n",
    "\n",
    "x[3:6] = ['unu'] # in locul elementelor de la 3 inclusiv la 6 exclusiv am pus 'unu'\n",
    "print(x)\n",
    "\n",
    "x[8:len(x)] = ['doi']\n",
    "print(x)\n",
    "\n",
    "y = [1, 2, 3, 2, 3, 2, 3]\n",
    "#y.remove(2, 3) eroare ca remove primeste doar un argument\n",
    "y.remove(2) # sterge prima valoare = 2\n",
    "## ATENTIE nu sterge toate valorile date ca param, doar PRIMA pe care o gaseste\n",
    "\n",
    "del y[0] # sterge primul elem\n",
    "print(y)\n",
    "\n",
    "del y[2:len(y)]\n",
    "print(y)\n",
    "\n",
    "del y[:1] # totul pana la 1 exclusiv\n",
    "print(y)\n",
    "\n",
    "z = y.pop()\n",
    "print(z)\n",
    "print(y)\n",
    "\n",
    "x.clear() # sterge toate elementele\n",
    "del y[:] # sterge toate elementele\n",
    "print(x)\n",
    "\n",
    "y = [1, 2, 3]\n",
    "print(y[1:])\n"
   ]
  },
  {
   "cell_type": "markdown",
   "metadata": {},
   "source": [
    "Ceva important !!\n",
    "- Listele sunt pointeri "
   ]
  },
  {
   "cell_type": "code",
   "execution_count": 65,
   "metadata": {},
   "outputs": [
    {
     "name": "stdout",
     "output_type": "stream",
     "text": [
      "x [1, 2, 3] si y [1, 2, 3]\n"
     ]
    }
   ],
   "source": [
    "x = [1, 2]\n",
    "y = x # y pointeaza unde pointeaza x \n",
    "# daca adaug o valoare la y o adaug in zona de memoria la care pointeaza si x, deci si x o sa primeasca valoarea\n",
    "\n",
    "y.append(3)\n",
    "print(f\"x {x} si y {y}\")\n",
    "\n",
    "## daca fac del x , atunci sterg pointerul , \n",
    "del x[:] # pentru a sterge"
   ]
  },
  {
   "cell_type": "markdown",
   "metadata": {},
   "source": [
    "De retinut\n",
    "- Operatorul (=) ia referinta la o alta lista daca fac y = x, nu ii face copie\n",
    "- Daca vreau sa fac copie folosesc y = list(x)"
   ]
  },
  {
   "cell_type": "code",
   "execution_count": 34,
   "metadata": {},
   "outputs": [
    {
     "name": "stdout",
     "output_type": "stream",
     "text": [
      "z [1, 2, 3, 4] si y [1, 2, 3]\n"
     ]
    }
   ],
   "source": [
    "z = list(y) # am facut copie\n",
    "z.append(4)\n",
    "print(f\"z {z} si y {y}\")"
   ]
  },
  {
   "cell_type": "code",
   "execution_count": 43,
   "metadata": {},
   "outputs": [
    {
     "name": "stdout",
     "output_type": "stream",
     "text": [
      "2\n",
      "2\n",
      "y rev ['C', 'B', 'A', 'D', 'C', 'B', 'A']\n"
     ]
    }
   ],
   "source": [
    "x = ['A', 'B', 'C', 'D']\n",
    "y = x.index('C') # pe ce index este valoarea cautata\n",
    "print(y)\n",
    "\n",
    "y = list(x)\n",
    "y.extend(['A', 'B', 'C'])\n",
    "z = y.count('A') # de cate ori apare 'A'\n",
    "print(z)\n",
    "\n",
    "y.reverse()\n",
    "print(f\"y rev {y}\")\n"
   ]
  },
  {
   "cell_type": "markdown",
   "metadata": {},
   "source": [
    "Metoda SORT\n",
    "- sort(key=None, reverse=None)\n"
   ]
  },
  {
   "cell_type": "code",
   "execution_count": 47,
   "metadata": {},
   "outputs": [
    {
     "name": "stdout",
     "output_type": "stream",
     "text": [
      "[1, 2, 3, 4, 5]\n",
      "[5, 4, 3, 2, 1]\n",
      "[4, 2, 5, 3, 1]\n"
     ]
    }
   ],
   "source": [
    "x = [2, 1, 3, 4, 5]\n",
    "x.sort() # sorteaza crescator, basic\n",
    "print(x)\n",
    "\n",
    "x.sort(reverse=True)\n",
    "print(x) # desc\n",
    "\n",
    "# ii pot da o fct lambda\n",
    "\n",
    "x.sort(key = lambda x: x%2)\n",
    "print(x)"
   ]
  },
  {
   "cell_type": "markdown",
   "metadata": {},
   "source": [
    "Map\n",
    "- map(function,iterableElement1,...)\n"
   ]
  },
  {
   "cell_type": "code",
   "execution_count": 55,
   "metadata": {},
   "outputs": [
    {
     "name": "stdout",
     "output_type": "stream",
     "text": [
      "[1, 4, 9, 16]\n",
      "[False, True, False, True]\n",
      "[2, 4, 6]\n",
      "[2, 4]\n",
      "[1, 4, 9, 16]\n"
     ]
    }
   ],
   "source": [
    "x = [1, 2, 3, 4]\n",
    "\n",
    "y = list(map(lambda i : i * i, x))\n",
    "print(y)\n",
    "\n",
    "y = list(map(lambda i: i%2 == 0, x))\n",
    "print(y)\n",
    "\n",
    "x = [1, 2, 3]\n",
    "y = [1, 2, 3]\n",
    "\n",
    "z = list(map(lambda e1, e2: e1+e2, x, y))\n",
    "print(z) \n",
    "\n",
    "x.extend((4, 5))\n",
    "z = list(filter(lambda i : i%2==0 , x)) # filter returneaza doar valorile care dau True la lambda\n",
    "print(z)\n",
    "\n",
    "x = list(map(lambda i : i*i, range(1,5)))  # 1 inclusiv, 5 exclusiv\n",
    "print(x)\n"
   ]
  },
  {
   "cell_type": "code",
   "execution_count": 57,
   "metadata": {},
   "outputs": [
    {
     "name": "stdout",
     "output_type": "stream",
     "text": [
      "3\n",
      "6\n"
     ]
    }
   ],
   "source": [
    "x = [1, 2, 3]\n",
    "print(max(x))\n",
    "\n",
    "y = sum(x) # doar daca elem pot fi adunate\n",
    "print(y) \n",
    "\n"
   ]
  },
  {
   "cell_type": "markdown",
   "metadata": {},
   "source": [
    "Sorted\n",
    "- identica cu sort, doar ca facem o copie\n",
    "- asa avem lista initiala + lista sortata"
   ]
  },
  {
   "cell_type": "code",
   "execution_count": 59,
   "metadata": {},
   "outputs": [
    {
     "name": "stdout",
     "output_type": "stream",
     "text": [
      "x [2, 1, 5, 4, 3] si y [1, 2, 3, 4, 5]\n"
     ]
    }
   ],
   "source": [
    "x = [2, 1, 5, 4, 3]\n",
    "y = sorted(x)\n",
    "print(f\"x {x} si y {y}\")\n",
    "\n",
    "## la fel si cu reversed"
   ]
  },
  {
   "cell_type": "code",
   "execution_count": 61,
   "metadata": {},
   "outputs": [
    {
     "name": "stdout",
     "output_type": "stream",
     "text": [
      "True\n",
      "False\n"
     ]
    }
   ],
   "source": [
    "x = [2, 1, 0, 3, 5]\n",
    "## operatii boolene ,\n",
    "# any -> True daca exista cel putin un obiect care poate fi evaluat cu True, in cazul cu numere != 0\n",
    "# any -> True daca toate != \n",
    "\n",
    "y = any(x) \n",
    "print(y)\n",
    "y = all(x)\n",
    "print(y)"
   ]
  },
  {
   "cell_type": "markdown",
   "metadata": {},
   "source": [
    "Zip\n",
    "- primeste 2 liste si face una singura cu elementele tuple\n"
   ]
  },
  {
   "cell_type": "code",
   "execution_count": 64,
   "metadata": {},
   "outputs": [
    {
     "name": "stdout",
     "output_type": "stream",
     "text": [
      "[(1, 4), (2, 5), (3, 6)]\n",
      "(1, 2, 3) (4, 5, 6)\n"
     ]
    }
   ],
   "source": [
    "x = [1, 2, 3]\n",
    "y = [4, 5, 6]\n",
    "\n",
    "z = list(zip(x,y))\n",
    "print(z)\n",
    "\n",
    "a, b = zip(*z) ## *lista pentru a da unzip \n",
    "print(a,b)"
   ]
  }
 ],
 "metadata": {
  "kernelspec": {
   "display_name": "env",
   "language": "python",
   "name": "python3"
  },
  "language_info": {
   "codemirror_mode": {
    "name": "ipython",
    "version": 3
   },
   "file_extension": ".py",
   "mimetype": "text/x-python",
   "name": "python",
   "nbconvert_exporter": "python",
   "pygments_lexer": "ipython3",
   "version": "3.12.6"
  },
  "orig_nbformat": 4
 },
 "nbformat": 4,
 "nbformat_minor": 2
}

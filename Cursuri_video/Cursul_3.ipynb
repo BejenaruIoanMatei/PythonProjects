{
 "cells": [
  {
   "cell_type": "markdown",
   "metadata": {},
   "source": [
    "Sets\n",
    "- {}\n",
    "- lista de elemente unice\n",
    "- pentru operatii matematice in special : uniune, intersectie, diferenta"
   ]
  },
  {
   "cell_type": "code",
   "execution_count": 6,
   "metadata": {},
   "outputs": [
    {
     "name": "stdout",
     "output_type": "stream",
     "text": [
      "{2, '2'}\n",
      "{2, 3, 4, 5}\n",
      "{'o', 'l', 'H', 'e'}\n"
     ]
    }
   ],
   "source": [
    "x = ['2', 2]\n",
    "y = set(x)\n",
    "print(y)\n",
    "\n",
    "x = [2, 2, 2, 2, 3, 3, 4, 5]\n",
    "y = set(x)\n",
    "print(y)\n",
    "\n",
    "print(set(\"Hello\")) # o sa faca pentru fiecare caracter din string"
   ]
  },
  {
   "cell_type": "markdown",
   "metadata": {},
   "source": [
    "- liste NE ordonate\n",
    "- nu putem accesa fiecare element in parte , x[0]"
   ]
  },
  {
   "cell_type": "code",
   "execution_count": 10,
   "metadata": {},
   "outputs": [
    {
     "name": "stdout",
     "output_type": "stream",
     "text": [
      "{1, 2, 3, 4}\n",
      "{1, 3, 4}\n",
      "{1, 4}\n",
      "set()\n"
     ]
    }
   ],
   "source": [
    "x = {1, 2, 3}\n",
    "x.add(4)\n",
    "print(x)\n",
    "\n",
    "x.discard(2)\n",
    "print(x)\n",
    "\n",
    "x.remove(3) # la fel ca discard\n",
    "print(x)\n",
    "\n",
    "x.clear()\n",
    "print(x)"
   ]
  },
  {
   "cell_type": "code",
   "execution_count": 22,
   "metadata": {},
   "outputs": [
    {
     "name": "stdout",
     "output_type": "stream",
     "text": [
      "{1, 2, 3, 4, 5}\n",
      "{1, 2, 3, 4, 5, 6}\n",
      "{1, 2, 3, 4, 5, 6}\n",
      "{1, 2, 3, 4, 5, 6, 7, 8, 9}\n",
      "{1, 2, 3, 4, 5, 6, 7, 9}\n",
      "{1, 2, 3, 4, 5, 6, 7, 8, 9}\n"
     ]
    }
   ],
   "source": [
    "x = {1, 2, 3}\n",
    "x |= {3, 4, 5} # echivalent cu update\n",
    "print(x)\n",
    "\n",
    "x |= {3, 4, 3, 3, 6}\n",
    "print(x)\n",
    "\n",
    "x |= set(x)\n",
    "print(x)\n",
    "\n",
    "x.update({7, 8, 9})\n",
    "print(x)\n",
    "\n",
    "x.remove(8)\n",
    "print(x)\n",
    "\n",
    "x.update({8}, {9}, {1, 2, 3})\n",
    "print(x)\n",
    "\n",
    "# x |= {{1}, {1, 2}} nu merge pe set de seturi\n"
   ]
  },
  {
   "cell_type": "markdown",
   "metadata": {},
   "source": [
    "- Union |"
   ]
  },
  {
   "cell_type": "code",
   "execution_count": 25,
   "metadata": {},
   "outputs": [
    {
     "name": "stdout",
     "output_type": "stream",
     "text": [
      "{1, 2, 3, 4, 5}\n",
      "{1, 2, 3, 4, 5}\n",
      "{1, 2, 3, 4, 5, 6}\n"
     ]
    }
   ],
   "source": [
    "x = {1, 2, 3}\n",
    "y = {1}\n",
    "z = {3, 4, 5}\n",
    "\n",
    "t = x | y | z ## operatorul union '|'\n",
    "print(t)\n",
    "\n",
    "t = x.union(z) # la fel ca operatorul\n",
    "print(t)\n",
    "\n",
    "t = x | y | z | {6}\n",
    "print(t)"
   ]
  },
  {
   "cell_type": "markdown",
   "metadata": {},
   "source": [
    "- Intersection &"
   ]
  },
  {
   "cell_type": "code",
   "execution_count": 27,
   "metadata": {},
   "outputs": [
    {
     "name": "stdout",
     "output_type": "stream",
     "text": [
      "{1}\n",
      "{3}\n"
     ]
    }
   ],
   "source": [
    "t = x & y & {1, 2}\n",
    "print(t)\n",
    "\n",
    "t = x.intersection(z)\n",
    "print(t)"
   ]
  },
  {
   "cell_type": "markdown",
   "metadata": {},
   "source": [
    "- Difference -"
   ]
  },
  {
   "cell_type": "code",
   "execution_count": 31,
   "metadata": {},
   "outputs": [
    {
     "name": "stdout",
     "output_type": "stream",
     "text": [
      "{2, 3}\n",
      "{3}\n",
      "{2, 3}\n"
     ]
    }
   ],
   "source": [
    "t = x - y\n",
    "print(t)\n",
    "\n",
    "t = x - y - {2}\n",
    "print(t)\n",
    "\n",
    "t = x.difference(y)\n",
    "print(t)"
   ]
  },
  {
   "cell_type": "markdown",
   "metadata": {},
   "source": [
    "- Symmetric difference ^\n",
    "  - se face xor "
   ]
  },
  {
   "cell_type": "code",
   "execution_count": 34,
   "metadata": {},
   "outputs": [
    {
     "name": "stdout",
     "output_type": "stream",
     "text": [
      "{1, 4}\n",
      "set()\n",
      "{1, 4}\n"
     ]
    }
   ],
   "source": [
    "x = {1, 2, 3}\n",
    "y = {2, 3, 4}\n",
    "\n",
    "t = x ^ y\n",
    "print(t)\n",
    "\n",
    "t = x ^ y ^ {1, 4}\n",
    "print(t)\n",
    "\n",
    "t = x.symmetric_difference(y)\n",
    "print(t)"
   ]
  },
  {
   "cell_type": "code",
   "execution_count": 36,
   "metadata": {},
   "outputs": [
    {
     "name": "stdout",
     "output_type": "stream",
     "text": [
      "True\n",
      "False\n",
      "4\n"
     ]
    }
   ],
   "source": [
    "x = {1, 2, 3, 4}\n",
    "y = 2 in x \n",
    "print(y)\n",
    "y = 5 in x \n",
    "print (y)\n",
    "y = len(x)\n",
    "print(y)"
   ]
  },
  {
   "cell_type": "markdown",
   "metadata": {},
   "source": [
    "Inca doua metode pentru seturi\n",
    "- x.isdisjoint(y) , adica x si y sunt disjuncte ( n au niciun elem in comun)\n",
    "- x.issubset(y), daca x este inclus in y\n",
    "- x <= y echivalent cu issubset"
   ]
  },
  {
   "cell_type": "code",
   "execution_count": 39,
   "metadata": {},
   "outputs": [
    {
     "name": "stdout",
     "output_type": "stream",
     "text": [
      "True\n",
      "True\n",
      "True\n"
     ]
    }
   ],
   "source": [
    "x = {1, 2, 3, 4}\n",
    "y = {5, 6, 7}\n",
    "z = x.isdisjoint(y)\n",
    "print(z)\n",
    "\n",
    "x = {5, 6}\n",
    "z = x.issubset(y)\n",
    "print(z)\n",
    "\n",
    "z = x <= y\n",
    "print(z)"
   ]
  },
  {
   "cell_type": "markdown",
   "metadata": {},
   "source": [
    "- y.issuperset(x) sau y >= x , la fel ca la subset"
   ]
  },
  {
   "cell_type": "code",
   "execution_count": 42,
   "metadata": {},
   "outputs": [
    {
     "name": "stdout",
     "output_type": "stream",
     "text": [
      "True\n",
      "True\n",
      "False\n"
     ]
    }
   ],
   "source": [
    "z = y.issuperset(x)\n",
    "print(z)\n",
    "z = y >= x\n",
    "print(z)\n",
    "\n",
    "# pot folosi si '>' pt a verifica daca x este inclus in y , DAR x != y\n",
    "y = {5, 6}\n",
    "x = {5, 6}\n",
    "z = y > x\n",
    "print(z) # False pt ca x == y"
   ]
  },
  {
   "cell_type": "markdown",
   "metadata": {},
   "source": [
    "De retinut : seturile sunt multimi NEORDONATE"
   ]
  },
  {
   "cell_type": "code",
   "execution_count": 46,
   "metadata": {},
   "outputs": [
    {
     "name": "stdout",
     "output_type": "stream",
     "text": [
      "{1, 2, 3, 'a', 'b'}\n",
      "1\n"
     ]
    }
   ],
   "source": [
    "x = {'a','b', 1, 2, 3}\n",
    "print(x)\n",
    "print(x.pop()) # da pop la un element dar nu e garantat sa fie ultimul bagat in set"
   ]
  },
  {
   "cell_type": "markdown",
   "metadata": {},
   "source": [
    "Obs : merg MAP, lambda, pg functionala\n",
    "- exact ca la liste doar ca avem {} si in set vom avea elem unice thats it"
   ]
  },
  {
   "cell_type": "markdown",
   "metadata": {},
   "source": [
    "Ceva nou la set, avem \n",
    "- frozenset care functioneaza ca o tupla pe set, adica nu ne mai lasa sa i modificam dimensiunea (ramane frozen)"
   ]
  },
  {
   "cell_type": "code",
   "execution_count": 48,
   "metadata": {},
   "outputs": [],
   "source": [
    "x = frozenset({1, 2, 3})\n",
    "#x.add(10) eroare !!"
   ]
  },
  {
   "cell_type": "markdown",
   "metadata": {},
   "source": [
    "DICTIONARIES\n",
    "- hash-map container\n",
    "- key-value pair\n",
    "- key unic in dictionar\n",
    "- practic asa e hashmap ul in python "
   ]
  },
  {
   "cell_type": "code",
   "execution_count": 53,
   "metadata": {},
   "outputs": [
    {
     "name": "stdout",
     "output_type": "stream",
     "text": [
      "{'A': 1, 'B': 2}\n",
      "{'a': 1, 'b': 2}\n",
      "{'abc': 1, 'aaa': 2}\n"
     ]
    }
   ],
   "source": [
    "x = dict()\n",
    "x = {} # exact ca la set\n",
    "# by default {} inseamna dict\n",
    "# x.add(2) este vazut ca dictionar, deci fac set() pentru set\n",
    "\n",
    "x = {'A':1, \"B\":2}\n",
    "print(x)\n",
    "x = dict(a=1, b=2) # scriere diferita\n",
    "print(x)\n",
    "\n",
    "x = dict(zip([\"abc\", \"aaa\"],[1, 2]))\n",
    "print(x)"
   ]
  },
  {
   "cell_type": "code",
   "execution_count": 58,
   "metadata": {},
   "outputs": [
    {
     "name": "stdout",
     "output_type": "stream",
     "text": [
      "{'A': 1, 1: 2}\n",
      "1\n",
      "True\n",
      "False\n",
      "2\n"
     ]
    }
   ],
   "source": [
    "x = dict()\n",
    "x['A'] = 1\n",
    "x[1] = 2\n",
    "print(x)\n",
    "\n",
    "y = x['A']\n",
    "print(y)\n",
    "\n",
    "print(1 in x) # am cheia 1 in x\n",
    "print(2 in x) # False ca nu am\n",
    "print(len(x)) # numarul de chei"
   ]
  },
  {
   "cell_type": "markdown",
   "metadata": {},
   "source": [
    "- setdefault : cerem o valoare de la un dictionar \n",
    "- daca cheia exista ne ret valoarea si daca nu exista ne creeaza o cheie si pune o valoare"
   ]
  },
  {
   "cell_type": "code",
   "execution_count": 65,
   "metadata": {},
   "outputs": [
    {
     "name": "stdout",
     "output_type": "stream",
     "text": [
      "{'A': 1, 'B': 2}\n",
      "{'A': 1, 'B': 2, 'C': 3}\n",
      "{'A': 1, 'B': 2, 'C': 3, 'D': None}\n",
      "1\n"
     ]
    }
   ],
   "source": [
    "x = dict(A=1, B=2)\n",
    "print(x)\n",
    "y = x.setdefault('C',3) # y primeste valoarea 3 \n",
    "print(x)\n",
    "y = x.setdefault('D') # daca i dam doar cheia pune None la valoare\n",
    "print(x)\n",
    "y = x.setdefault('A') # valoarea coresp cheii A\n",
    "print(y)"
   ]
  },
  {
   "cell_type": "markdown",
   "metadata": {},
   "source": [
    "- update : pentru a schimba valoarea unei chei"
   ]
  },
  {
   "cell_type": "code",
   "execution_count": 68,
   "metadata": {},
   "outputs": [
    {
     "name": "stdout",
     "output_type": "stream",
     "text": [
      "{'a': 10, 'b': 20}\n"
     ]
    }
   ],
   "source": [
    "x = dict(a=1,b=2)\n",
    "x.update(a=10)\n",
    "x.update({\"b\":20})\n",
    "print(x)"
   ]
  },
  {
   "cell_type": "code",
   "execution_count": 70,
   "metadata": {},
   "outputs": [
    {
     "name": "stdout",
     "output_type": "stream",
     "text": [
      "{'B': 2}\n",
      "{}\n"
     ]
    }
   ],
   "source": [
    "x = {'A':1, 'B':2}\n",
    "del x['A']\n",
    "print(x)\n",
    "\n",
    "x.clear()\n",
    "print(x)"
   ]
  },
  {
   "cell_type": "code",
   "execution_count": 75,
   "metadata": {},
   "outputs": [
    {
     "name": "stdout",
     "output_type": "stream",
     "text": [
      "{'A': 1, 'B': 2}\n",
      "{'A': 1, 'B': 2, 'C': 3}\n",
      "{'A': None, 'B': None}\n",
      "{'A': 1, 'B': 1}\n"
     ]
    }
   ],
   "source": [
    "x = {'A':1, 'B':2}\n",
    "y = x.copy()\n",
    "print(y)\n",
    "y['C'] = 3\n",
    "print(y)\n",
    "\n",
    "x = dict.fromkeys(['A','B'])\n",
    "print(x)\n",
    "x = dict.fromkeys(['A','B'],1) # daca vrem sa facem o initializare\n",
    "print(x)"
   ]
  },
  {
   "cell_type": "code",
   "execution_count": 77,
   "metadata": {},
   "outputs": [
    {
     "name": "stdout",
     "output_type": "stream",
     "text": [
      "1\n",
      "1\n",
      "{'B': 2}\n"
     ]
    }
   ],
   "source": [
    "x = {'A':1, 'B':2}\n",
    "y = x.get('A')\n",
    "print(y)\n",
    "\n",
    "y = x.pop('A')\n",
    "print(y)\n",
    "print(x)"
   ]
  },
  {
   "cell_type": "code",
   "execution_count": 79,
   "metadata": {},
   "outputs": [
    {
     "name": "stdout",
     "output_type": "stream",
     "text": [
      "{1: 1, 2: 2, 3: 3, 4: 4, 5: 5, 6: 6, 7: 7, 8: 8}\n",
      "{1: 7, 2: 8, 0: 6}\n"
     ]
    }
   ],
   "source": [
    "x = {i:i for i in range(1,9)} # folosim cheie: valoare \n",
    "print(x)\n",
    "\n",
    "x = {i%3:i for i in range(1,9)} # se face update constant la valoarea cheii\n",
    "print(x)"
   ]
  },
  {
   "cell_type": "code",
   "execution_count": 81,
   "metadata": {},
   "outputs": [
    {
     "name": "stdout",
     "output_type": "stream",
     "text": [
      "dict_keys(['A', 'B'])\n",
      "A\n",
      "B\n"
     ]
    }
   ],
   "source": [
    "x = {'A':1, 'B':2}\n",
    "y = x.keys() # obtinut un obiect iterabil\n",
    "print(y)\n",
    "\n",
    "for i in x: ## echivalent cu x.keys(), isi da seama ca ne referim la chei\n",
    "    print(i)"
   ]
  },
  {
   "cell_type": "code",
   "execution_count": 82,
   "metadata": {},
   "outputs": [
    {
     "name": "stdout",
     "output_type": "stream",
     "text": [
      "dict_values([1, 2])\n"
     ]
    }
   ],
   "source": [
    "x = {'A':1, 'B':2}\n",
    "y = x.values()\n",
    "print(y)\n",
    "\n",
    "for i in x.values(): # la valori nu merge x simplu \n",
    "    print(i)"
   ]
  },
  {
   "cell_type": "code",
   "execution_count": 85,
   "metadata": {},
   "outputs": [
    {
     "name": "stdout",
     "output_type": "stream",
     "text": [
      "dict_items([('A', 1), ('B', 2)])\n",
      "('A', 1)\n",
      "('B', 2)\n"
     ]
    }
   ],
   "source": [
    "x = {'A':1, 'B':2}\n",
    "y = x.items() # returneaza tuple\n",
    "print(y)\n",
    "\n",
    "for i in x.items():\n",
    "    print(i)\n"
   ]
  },
  {
   "cell_type": "code",
   "execution_count": 88,
   "metadata": {},
   "outputs": [
    {
     "name": "stdout",
     "output_type": "stream",
     "text": [
      "('Bmw', 160)\n",
      "('Toyota', 140)\n",
      "('Dacia', 100)\n",
      "('Bmw', 160)\n",
      "('Dacia', 100)\n",
      "('Toyota', 140)\n"
     ]
    }
   ],
   "source": [
    "x = {\n",
    "    'Dacia' : 100,\n",
    "    'Bmw' : 160,\n",
    "    'Toyota' : 140\n",
    "}\n",
    "\n",
    "for i in sorted(x.items(), key = lambda el : el[1], reverse=True): # sortat in functie de valoarea cheii \n",
    "    print(i)\n",
    "    \n",
    "for i in sorted(x.items(), key = lambda i : i[0], reverse= False): # sortat in functie de cheie\n",
    "    print(i)"
   ]
  },
  {
   "cell_type": "markdown",
   "metadata": {},
   "source": [
    "Operatorul **\n",
    "- parametrii sunt un dictionar"
   ]
  },
  {
   "cell_type": "code",
   "execution_count": 93,
   "metadata": {},
   "outputs": [
    {
     "name": "stdout",
     "output_type": "stream",
     "text": [
      "Bmw\n",
      "bugatti\n"
     ]
    }
   ],
   "source": [
    "def GetFastest(cars):\n",
    "    min_speed = 0\n",
    "    name = None\n",
    "    for car in cars:\n",
    "        if cars[car] > min_speed:\n",
    "            min_speed = cars[car]\n",
    "            name = car\n",
    "    return name\n",
    "\n",
    "cars = {\n",
    "    'Dacia' : 100,\n",
    "    'Bmw' : 160,\n",
    "    'Toyota' : 140\n",
    "}\n",
    "\n",
    "result = str(GetFastest(cars))\n",
    "print(result)\n",
    "\n",
    "def GetFastest_v2(**cars):\n",
    "    min_speed = 0\n",
    "    name = None\n",
    "    for car in cars:\n",
    "        if cars[car] > min_speed:\n",
    "            min_speed = cars[car]\n",
    "            name = car\n",
    "    return name\n",
    "\n",
    "print(GetFastest_v2(dacia=100,bugatti=300))"
   ]
  },
  {
   "cell_type": "code",
   "execution_count": 94,
   "metadata": {},
   "outputs": [
    {
     "name": "stdout",
     "output_type": "stream",
     "text": [
      "{'Bmw': 160, 'Toyota': 140}\n"
     ]
    }
   ],
   "source": [
    "cars = {\n",
    "    'Dacia' : 100,\n",
    "    'Bmw' : 160,\n",
    "    'Toyota' : 140,\n",
    "    'Bugatti' : 300\n",
    "}\n",
    "\n",
    "# vreau un dict cu masinile cu viteza intre 120 si 250\n",
    "\n",
    "result = dict(filter(lambda element : element[1] > 120 and element[1] < 250, cars.items()))\n",
    "print(result)"
   ]
  },
  {
   "cell_type": "code",
   "execution_count": 95,
   "metadata": {},
   "outputs": [
    {
     "name": "stdout",
     "output_type": "stream",
     "text": [
      "(0, 'Dacia')\n",
      "(1, 'Bmw')\n",
      "(2, 'Toyota')\n"
     ]
    }
   ],
   "source": [
    "cars = {\n",
    "    'Dacia' : 100,\n",
    "    'Bmw' : 160,\n",
    "    'Toyota' : 140,\n",
    "    'Bugatti' : 300\n",
    "}\n",
    "\n",
    "for a in enumerate(x):\n",
    "    print(a) # tupla de tipul index-cheie"
   ]
  }
 ],
 "metadata": {
  "kernelspec": {
   "display_name": "env",
   "language": "python",
   "name": "python3"
  },
  "language_info": {
   "codemirror_mode": {
    "name": "ipython",
    "version": 3
   },
   "file_extension": ".py",
   "mimetype": "text/x-python",
   "name": "python",
   "nbconvert_exporter": "python",
   "pygments_lexer": "ipython3",
   "version": "3.12.6"
  },
  "orig_nbformat": 4
 },
 "nbformat": 4,
 "nbformat_minor": 2
}

{
 "cells": [
  {
   "cell_type": "markdown",
   "metadata": {},
   "source": [
    "Classes\n",
    "- class nume : \n",
    "    - <statement 1>\n",
    "    - <statement 2>\n",
    "\n"
   ]
  },
  {
   "cell_type": "code",
   "execution_count": 1,
   "metadata": {},
   "outputs": [
    {
     "name": "stdout",
     "output_type": "stream",
     "text": [
      "0 0\n"
     ]
    }
   ],
   "source": [
    "class Point :\n",
    "    def __init__(self): # trebuie adaugat self\n",
    "        self.x = 0\n",
    "        self.y = 0\n",
    "\n",
    "p = Point()\n",
    "print(p.x,p.y)"
   ]
  },
  {
   "cell_type": "markdown",
   "metadata": {},
   "source": [
    "- avem \"self\" care se refera la o data membru a clasei, cum aveam in C \"this\"\n",
    "- constructorul il definim cu ___ init ___"
   ]
  },
  {
   "cell_type": "code",
   "execution_count": 2,
   "metadata": {},
   "outputs": [
    {
     "name": "stdout",
     "output_type": "stream",
     "text": [
      "0\n"
     ]
    }
   ],
   "source": [
    "class Point :\n",
    "    def __init__(self): \n",
    "        self.x = 0\n",
    "        self.y = 0\n",
    "    def GetX(self): ## getter\n",
    "        return self.x\n",
    "\n",
    "# cand ne folosim de datele membru ale clasei punem self\n",
    "p = Point()\n",
    "print(p.GetX())\n"
   ]
  },
  {
   "cell_type": "code",
   "execution_count": 4,
   "metadata": {},
   "outputs": [
    {
     "name": "stdout",
     "output_type": "stream",
     "text": [
      "10\n"
     ]
    }
   ],
   "source": [
    "class Point:\n",
    "    x = 0\n",
    "    y = 0\n",
    "    \n",
    "p1 = Point()\n",
    "p1.x = 10\n",
    "print(p1.x)"
   ]
  },
  {
   "cell_type": "code",
   "execution_count": 5,
   "metadata": {},
   "outputs": [
    {
     "name": "stdout",
     "output_type": "stream",
     "text": [
      "[1, 2, 3, 4, 5]\n",
      "[1, 2, 3, 4, 5]\n"
     ]
    }
   ],
   "source": [
    "class Point:\n",
    "    numbers = [1, 2, 3] # asignam un pointer aici \n",
    "    def AddNumber(self,n):\n",
    "        self.numbers += [n]\n",
    "        \n",
    "p1 = Point()\n",
    "p2 = Point()\n",
    "p1.AddNumber(4)\n",
    "p2.AddNumber(5)\n",
    "print(p1.numbers)\n",
    "print(p2.numbers)"
   ]
  },
  {
   "cell_type": "markdown",
   "metadata": {},
   "source": [
    "Foarte IMPORTANT\n",
    "- noi cand facem \n",
    "    - numbers = [1, 2, 3] de fapt asignam unui pointer o lista\n",
    "    - dar noi vrem ca in fiecare obiect sa fie initializata o lista noua, nu toate obiectele sa aiba date membru care sa pointeze la [1, 2, 3, 4]\n",
    "\n",
    "Care este rezolvarea ?\n",
    "- folosirea lui __ init __ pentru a crea de fiecare data o lista noua "
   ]
  },
  {
   "cell_type": "code",
   "execution_count": 6,
   "metadata": {},
   "outputs": [
    {
     "name": "stdout",
     "output_type": "stream",
     "text": [
      "[1, 2, 3, 4]\n",
      "[1, 2, 3, 5]\n"
     ]
    }
   ],
   "source": [
    "class Point:\n",
    "    def __init__(self):\n",
    "        self.numbers = [1, 2, 3]\n",
    "    def AddNumber(self,n):\n",
    "        self.numbers += [n]\n",
    "p1 = Point()\n",
    "p2 = Point()\n",
    "p1.AddNumber(4)\n",
    "p2.AddNumber(5)\n",
    "print(p1.numbers) # Acum p1 are 1, 2, 3, 4 si p2 are 1, 2, 3, 5 cum ar fi trebuit\n",
    "print(p2.numbers)"
   ]
  },
  {
   "cell_type": "code",
   "execution_count": 15,
   "metadata": {},
   "outputs": [
    {
     "name": "stdout",
     "output_type": "stream",
     "text": [
      "[1]\n",
      "[1]\n"
     ]
    }
   ],
   "source": [
    "class A:\n",
    "    x = [1, 2, 3]\n",
    "    def Del(self):\n",
    "        self.x.pop()\n",
    "        \n",
    "p1 = A()\n",
    "p2 = A()\n",
    "p1.Del()\n",
    "p2.Del()\n",
    "print(p1.x)\n",
    "print(p2.x)"
   ]
  },
  {
   "cell_type": "code",
   "execution_count": 17,
   "metadata": {},
   "outputs": [
    {
     "name": "stdout",
     "output_type": "stream",
     "text": [
      "[1, 2]\n",
      "[1, 2]\n"
     ]
    }
   ],
   "source": [
    "class A:\n",
    "    def __init__(self):\n",
    "        self.x = [1, 2, 3]\n",
    "    def Del(self):\n",
    "        self.x.pop()\n",
    "p1 = A()\n",
    "p2 = A()\n",
    "p1.Del()\n",
    "p2.Del()\n",
    "print(p1.x)\n",
    "print(p2.x)"
   ]
  },
  {
   "cell_type": "markdown",
   "metadata": {},
   "source": [
    "IMPORTANT\n",
    "- in spate p1 si p2 sunt un fel de DICTIONARE"
   ]
  },
  {
   "cell_type": "code",
   "execution_count": 18,
   "metadata": {},
   "outputs": [
    {
     "name": "stdout",
     "output_type": "stream",
     "text": [
      "0 0 10\n"
     ]
    }
   ],
   "source": [
    "class Point:\n",
    "    def __init__(self):\n",
    "        self.x = 0\n",
    "        self.y = 0\n",
    "\n",
    "p1 = Point()\n",
    "p2 = Point()\n",
    "p1.z = 10\n",
    "print(p1.x, p1.y, p1.z) ## merge pt ca p1 functioneaza ca un dictionar\n",
    "# daca as pune p2.z ar da eroare pt ca doar p1 are z\n"
   ]
  },
  {
   "cell_type": "code",
   "execution_count": 19,
   "metadata": {},
   "outputs": [
    {
     "name": "stdout",
     "output_type": "stream",
     "text": [
      "True\n",
      "True\n",
      "False\n"
     ]
    }
   ],
   "source": [
    "class Point:\n",
    "    def __init__(self):\n",
    "        self.x = 0\n",
    "        self.y = 0\n",
    "\n",
    "p1 = Point()\n",
    "p2 = Point()\n",
    "p1.z = 10\n",
    "print(\"x\" in dir(p1))\n",
    "print(\"z\" in dir(p1))\n",
    "print(\"z\" in dir(p2)) # ca noi am facut doar p1.z = 10 nu si p2"
   ]
  },
  {
   "cell_type": "code",
   "execution_count": 21,
   "metadata": {},
   "outputs": [
    {
     "name": "stdout",
     "output_type": "stream",
     "text": [
      "[1, 2]\n"
     ]
    }
   ],
   "source": [
    "class Test:\n",
    "    numbers = []\n",
    "    def Add(self,n):\n",
    "        self.numbers += [n]\n",
    "    \n",
    "p1 = Test()\n",
    "p2 = Test()\n",
    "p1.Add(1)\n",
    "p2.Add(2)\n",
    "print(p1.numbers) # as fi vrut doar p1, adica 1\n",
    "# iluzia de variabila statica "
   ]
  },
  {
   "cell_type": "markdown",
   "metadata": {},
   "source": [
    "- Ce se intampla in spate cumva"
   ]
  },
  {
   "cell_type": "code",
   "execution_count": 28,
   "metadata": {},
   "outputs": [
    {
     "name": "stdout",
     "output_type": "stream",
     "text": [
      "[1, 2] [1, 2]\n"
     ]
    }
   ],
   "source": [
    "numbers_vector = []\n",
    "def TestClass_Add(obj, n):\n",
    "    obj[\"numbers\"] += [n]\n",
    "\n",
    "TestClass = {\n",
    "    \"Add\" : TestClass_Add,\n",
    "    \"numbers\" : numbers_vector\n",
    "}\n",
    "\n",
    "p1 = dict(TestClass)\n",
    "p2 = dict(TestClass)\n",
    "p1[\"Add\"](p1,1)\n",
    "p2[\"Add\"](p2,2)\n",
    "print(p1[\"numbers\"],p2[\"numbers\"])\n",
    "# vedem ca p1 si p2 pointeaza la acelasi vector si modifica impreuna vectorul"
   ]
  }
 ],
 "metadata": {
  "kernelspec": {
   "display_name": "env",
   "language": "python",
   "name": "python3"
  },
  "language_info": {
   "codemirror_mode": {
    "name": "ipython",
    "version": 3
   },
   "file_extension": ".py",
   "mimetype": "text/x-python",
   "name": "python",
   "nbconvert_exporter": "python",
   "pygments_lexer": "ipython3",
   "version": "3.12.6"
  },
  "orig_nbformat": 4
 },
 "nbformat": 4,
 "nbformat_minor": 2
}
